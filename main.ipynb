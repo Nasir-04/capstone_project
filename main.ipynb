{
 "cells": [
  {
   "cell_type": "markdown",
   "id": "9c843e64-b6d6-46b5-bb38-4dc7a008cb9f",
   "metadata": {},
   "source": [
    "# Welcome to Our Capstone Project!\n",
    "This is our main Jupyter Notebook file where we will work on the project.\n"
   ]
  },
  {
   "cell_type": "code",
   "execution_count": null,
   "id": "985ffb90-af87-4dda-8e68-9bee6fd0d176",
   "metadata": {},
   "outputs": [],
   "source": []
  }
 ],
 "metadata": {
  "kernelspec": {
   "display_name": "Python 3 (ipykernel)",
   "language": "python",
   "name": "python3"
  },
  "language_info": {
   "codemirror_mode": {
    "name": "ipython",
    "version": 3
   },
   "file_extension": ".py",
   "mimetype": "text/x-python",
   "name": "python",
   "nbconvert_exporter": "python",
   "pygments_lexer": "ipython3",
   "version": "3.12.7"
  }
 },
 "nbformat": 4,
 "nbformat_minor": 5
}
